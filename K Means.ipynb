{
 "cells": [
  {
   "cell_type": "code",
   "execution_count": 8,
   "metadata": {},
   "outputs": [],
   "source": [
    "import numpy as np\n",
    "import matplotlib.pyplot as plt\n",
    "import seaborn as sns\n",
    "import pandas as pd\n",
    "\n",
    "from sklearn.cluster import KMeans\n",
    "from sklearn.datasets import make_blobs\n",
    "from sklearn.metrics import classification_report, confusion_matrix\n",
    "from sklearn.model_selection import train_test_split"
   ]
  },
  {
   "cell_type": "code",
   "execution_count": 5,
   "metadata": {},
   "outputs": [
    {
     "data": {
      "text/plain": [
       "(array([[ 1.15744155e+01, -9.76657945e+00],\n",
       "        [-9.17567182e-01,  5.46076122e+00],\n",
       "        [ 1.96447157e+00, -7.55469607e+00],\n",
       "        [-2.15905941e+00,  5.18360892e+00],\n",
       "        [-4.03334687e+00,  3.92905337e+00],\n",
       "        [ 1.09009040e+01, -7.50903624e+00],\n",
       "        [-4.38809465e-01,  5.45427961e+00],\n",
       "        [-5.78374188e-01,  4.43683768e+00],\n",
       "        [ 1.00649815e+01, -8.19161128e+00],\n",
       "        [ 1.35310931e+00, -7.83074569e+00],\n",
       "        [ 2.70099239e+00, -8.29805023e+00],\n",
       "        [ 1.14014942e+01, -7.38320040e+00],\n",
       "        [-1.17083301e+00,  5.64927272e+00],\n",
       "        [ 3.19278870e+00, -6.18882611e+00],\n",
       "        [ 1.01561162e+01, -7.43121351e+00],\n",
       "        [ 1.99084208e+00, -6.89843719e+00],\n",
       "        [-6.64938515e-01,  3.64895255e+00],\n",
       "        [ 7.86386592e+00, -7.99171650e+00],\n",
       "        [ 1.00561395e+01, -9.46890912e+00],\n",
       "        [-4.07847747e+00,  6.08674172e+00],\n",
       "        [-2.72890612e+00,  3.60363547e+00],\n",
       "        [-1.47004972e+00,  3.34187163e+00],\n",
       "        [ 6.64988550e-01,  3.64509870e+00],\n",
       "        [-1.17745976e+00,  5.21311830e+00],\n",
       "        [-2.06334568e-01,  3.33364249e+00],\n",
       "        [-1.28296165e+00,  2.64991966e+00],\n",
       "        [-1.39111044e+00,  5.36754771e+00],\n",
       "        [-2.30712772e+00,  3.81590221e+00],\n",
       "        [ 1.41409567e-01,  4.79803736e+00],\n",
       "        [-4.57858530e-01,  4.06641750e+00],\n",
       "        [ 6.95391464e-01,  5.93753128e+00],\n",
       "        [ 1.17635908e+00, -8.02188321e+00],\n",
       "        [-2.75291284e+00,  5.53541703e+00],\n",
       "        [-1.66637145e+00,  4.34062303e+00],\n",
       "        [ 7.51480623e-01, -8.94520794e+00],\n",
       "        [ 9.02497588e+00, -6.35262573e+00],\n",
       "        [-3.59522128e+00,  3.57234595e+00],\n",
       "        [ 1.64371327e+00, -7.93542514e+00],\n",
       "        [-5.01919749e+00,  4.10565479e+00],\n",
       "        [-1.21764228e+00,  7.23174221e+00],\n",
       "        [-3.35402734e+00,  3.04801068e+00],\n",
       "        [-8.10127861e-01,  5.18746594e+00],\n",
       "        [ 1.02659070e+01, -9.32241667e+00],\n",
       "        [ 1.57157043e+00, -6.40916499e+00],\n",
       "        [ 5.42288493e-01, -7.57054695e+00],\n",
       "        [-2.14953789e+00,  3.03056791e+00],\n",
       "        [ 7.69554333e-01, -5.03954620e+00],\n",
       "        [ 9.48540723e+00, -8.77323205e+00],\n",
       "        [ 1.21166072e-01, -6.97204823e+00],\n",
       "        [ 9.28325089e+00, -7.35517155e+00],\n",
       "        [-4.93428642e-01,  4.83764686e+00],\n",
       "        [-1.17705036e+00,  3.73732729e+00],\n",
       "        [ 1.08385816e+01, -7.66631902e+00],\n",
       "        [ 1.04978417e+01, -9.37496284e+00],\n",
       "        [ 1.33378598e+00, -6.50857651e+00],\n",
       "        [-1.76460265e+00,  2.91643886e+00],\n",
       "        [-2.08724516e+00,  4.68178673e+00],\n",
       "        [-9.01294631e-01,  5.24648417e+00],\n",
       "        [ 8.11596674e-01, -7.01886765e+00],\n",
       "        [ 9.24051771e+00, -8.78715422e+00],\n",
       "        [-6.45135822e-01,  3.14578929e+00],\n",
       "        [-1.68296190e+00,  3.39423618e+00],\n",
       "        [-2.93665299e+00,  4.07845924e+00],\n",
       "        [-1.47243069e+00,  3.88454122e+00],\n",
       "        [ 8.69220345e-01,  5.38792392e+00],\n",
       "        [ 9.72703932e+00, -7.85449539e+00],\n",
       "        [-4.40647542e+00,  5.11278521e+00],\n",
       "        [ 1.78230503e+00, -7.23813663e+00],\n",
       "        [-3.84472670e+00,  4.94180628e+00],\n",
       "        [ 1.00919359e+01, -7.96690353e+00],\n",
       "        [ 1.00831219e+01, -6.56075806e+00],\n",
       "        [ 9.92487918e-01,  5.44774395e+00],\n",
       "        [ 1.02478168e+01, -9.45016859e+00],\n",
       "        [ 2.32084102e+00, -7.29042952e+00],\n",
       "        [-4.62703936e-01,  5.75889022e+00],\n",
       "        [ 8.97273189e+00, -8.29737764e+00],\n",
       "        [-3.18137430e+00,  3.47401103e+00],\n",
       "        [ 9.40742372e+00, -9.34889684e+00],\n",
       "        [-7.16897744e-01,  4.03105913e+00],\n",
       "        [-9.95284277e-01,  7.10411806e+00],\n",
       "        [-1.07047131e+00,  5.51122601e+00],\n",
       "        [-1.11423199e-01,  5.13902451e+00],\n",
       "        [ 1.88581792e-01,  5.87341600e+00],\n",
       "        [ 1.38941273e+00, -7.33504670e+00],\n",
       "        [-8.08934640e-01,  5.26342723e+00],\n",
       "        [-7.43161007e-01,  4.35348851e+00],\n",
       "        [ 1.01398196e+01, -8.26650041e+00],\n",
       "        [-1.24949400e+00,  3.26987629e+00],\n",
       "        [ 1.01189243e+01, -7.92455477e+00],\n",
       "        [ 8.11106309e+00, -8.09189051e+00],\n",
       "        [ 2.68443612e+00, -6.22045530e+00],\n",
       "        [-3.45388123e-01,  5.48035186e+00],\n",
       "        [-1.61373948e+00,  5.65117890e+00],\n",
       "        [ 2.40698895e+00, -6.27437987e+00],\n",
       "        [ 1.02136412e+01, -7.45702131e+00],\n",
       "        [ 1.05533740e+01, -8.84750892e+00],\n",
       "        [ 1.17208840e+01, -9.12280726e+00],\n",
       "        [ 9.59350241e+00, -1.02698811e+01],\n",
       "        [ 2.74531354e+00, -8.15161953e+00],\n",
       "        [ 9.36572359e+00, -8.81520276e+00],\n",
       "        [ 1.09100900e+01, -8.19868103e+00],\n",
       "        [ 1.30654552e+00, -8.08848612e+00],\n",
       "        [ 9.60359163e+00, -8.19569668e+00],\n",
       "        [-2.89438732e-01,  4.65702216e+00],\n",
       "        [-1.94560614e+00,  4.45666153e+00],\n",
       "        [ 1.01302217e+01, -7.45406727e+00],\n",
       "        [ 1.04723394e+01, -8.64293414e+00],\n",
       "        [ 5.54359555e-01,  6.14499599e+00],\n",
       "        [ 1.00702500e+01, -1.01173608e+01],\n",
       "        [-1.82853908e+00,  5.72799448e+00],\n",
       "        [ 2.76035178e-01, -8.06390992e+00],\n",
       "        [-8.37720386e-04,  5.16263718e+00],\n",
       "        [-1.97737294e+00,  4.56788341e+00],\n",
       "        [ 1.65408027e+00, -5.46793503e+00],\n",
       "        [-7.47520752e-01,  5.79386550e+00],\n",
       "        [-2.30472257e-01,  6.28483684e+00],\n",
       "        [-1.52535182e+00,  5.16895871e+00],\n",
       "        [-1.51749004e+00,  5.43692236e+00],\n",
       "        [ 1.66890342e+00, -8.13104056e+00],\n",
       "        [ 1.27931010e+00, -6.21843912e+00],\n",
       "        [-7.54259832e-01,  7.12966186e+00],\n",
       "        [ 2.21935348e+00, -7.12541348e+00],\n",
       "        [-6.11098112e-01,  5.47977580e+00],\n",
       "        [-2.33273052e+00,  5.92613711e+00],\n",
       "        [ 1.69493275e+00, -9.52832463e+00],\n",
       "        [ 8.34004259e-01,  4.86443873e+00],\n",
       "        [-2.42064807e+00,  4.72102229e+00],\n",
       "        [ 1.59481136e+00, -5.71469652e+00],\n",
       "        [-1.07977052e+00,  2.38630093e+00],\n",
       "        [ 4.12795158e-01,  5.46754863e+00],\n",
       "        [-2.45708602e+00,  4.83226051e+00],\n",
       "        [-1.00805357e+00,  5.80033248e+00],\n",
       "        [-1.15355094e+00,  5.57653420e+00],\n",
       "        [ 1.34860781e+00, -6.77332414e+00],\n",
       "        [ 2.91414265e+00, -6.95643841e+00],\n",
       "        [ 9.82241419e+00, -6.50130064e+00],\n",
       "        [-1.98480649e-01, -7.94560513e+00],\n",
       "        [ 1.18824458e+00, -7.26796199e+00],\n",
       "        [ 1.03489734e+01, -8.22181720e+00],\n",
       "        [-2.75441041e-01, -5.70994517e+00],\n",
       "        [-1.31572250e+00,  5.02937531e+00],\n",
       "        [-8.87071866e-01,  4.95858864e+00],\n",
       "        [ 1.62144354e+00, -7.58726172e+00],\n",
       "        [-2.27362079e-01,  4.04263426e+00],\n",
       "        [ 3.01523589e+00, -6.66360502e+00],\n",
       "        [ 6.10926017e-01, -6.37983255e+00],\n",
       "        [-1.78565633e+00,  5.66317320e+00],\n",
       "        [ 5.89097005e-01, -5.83283813e+00],\n",
       "        [ 8.91142637e-01, -7.70107241e+00],\n",
       "        [ 7.76855807e+00, -6.36513549e+00],\n",
       "        [ 2.66803710e+00, -7.51413203e+00],\n",
       "        [-1.65559139e+00,  3.11042129e+00],\n",
       "        [ 9.51929209e-01, -5.63772515e+00],\n",
       "        [ 1.02644579e+01, -8.10518407e+00],\n",
       "        [ 2.04625274e+00, -7.50062639e+00],\n",
       "        [ 1.02861146e+01, -8.73467645e+00],\n",
       "        [-1.59387656e+00,  3.96608428e+00],\n",
       "        [-1.27801289e+00,  4.53303372e+00],\n",
       "        [ 1.23885354e+01, -7.35551133e+00],\n",
       "        [-6.58365816e-01,  4.96542342e+00],\n",
       "        [-2.11773080e-01,  2.84387171e+00],\n",
       "        [-2.59494347e+00,  6.16910442e+00],\n",
       "        [-9.25869914e-01,  3.53862434e+00],\n",
       "        [ 1.61709267e+00, -5.50053397e+00],\n",
       "        [ 1.00988946e+01, -1.09107868e+01],\n",
       "        [-8.80511204e-02,  5.69231515e+00],\n",
       "        [-8.43001739e-01,  5.17146431e+00],\n",
       "        [-2.37734619e+00,  5.86019355e+00],\n",
       "        [ 9.36463240e+00, -7.12309562e+00],\n",
       "        [-6.06602336e-01, -7.19406755e+00],\n",
       "        [-1.93350389e+00,  4.43858807e+00],\n",
       "        [-6.88994941e-01,  2.92993882e+00],\n",
       "        [-5.79998323e+00,  4.01877110e+00],\n",
       "        [ 2.50485724e+00, -7.69245583e+00],\n",
       "        [ 2.25970333e+00, -6.08788451e+00],\n",
       "        [-4.80681985e-01,  7.15706461e+00],\n",
       "        [ 1.76660552e+00, -9.18213657e+00],\n",
       "        [-3.69419472e+00,  5.32939815e+00],\n",
       "        [-1.56464851e+00,  4.25432639e+00],\n",
       "        [ 9.25886335e+00, -8.39766525e+00],\n",
       "        [ 8.89447632e+00, -8.99579353e+00],\n",
       "        [-1.54269436e+00,  3.36131042e+00],\n",
       "        [-2.59271999e+00,  3.20947606e+00],\n",
       "        [-5.67971922e-01,  3.91940516e+00],\n",
       "        [ 7.50207872e-01, -6.45829436e+00],\n",
       "        [ 9.68660052e+00, -8.71058859e+00],\n",
       "        [-6.37953705e-01, -4.85166069e+00],\n",
       "        [ 9.85880430e+00, -9.53532697e+00],\n",
       "        [ 4.22689148e-01, -7.43434916e+00],\n",
       "        [ 2.63179971e+00, -6.26860569e+00],\n",
       "        [-2.69327766e+00,  3.96858021e+00],\n",
       "        [ 9.55687407e+00, -6.69489113e+00],\n",
       "        [-5.48819182e-03,  4.70932498e+00],\n",
       "        [ 8.97392607e+00, -8.43565564e+00],\n",
       "        [-1.44902396e+00,  3.57144115e+00],\n",
       "        [ 9.89583782e+00, -8.36984842e+00],\n",
       "        [ 1.01478073e+01, -9.60311055e+00],\n",
       "        [-1.07479429e+00,  6.09234177e+00],\n",
       "        [ 1.07867279e+01, -7.80983980e+00],\n",
       "        [-7.36687215e-01,  4.77858818e+00]]),\n",
       " array([1, 3, 2, 0, 3, 1, 0, 0, 1, 2, 2, 1, 0, 2, 1, 2, 0, 1, 1, 0, 3, 3,\n",
       "        0, 0, 0, 3, 0, 3, 0, 0, 0, 2, 3, 3, 2, 1, 3, 2, 3, 3, 3, 0, 1, 2,\n",
       "        2, 3, 2, 1, 2, 1, 0, 0, 1, 1, 2, 0, 3, 0, 2, 1, 0, 3, 3, 3, 0, 1,\n",
       "        3, 2, 3, 1, 1, 0, 1, 2, 0, 1, 3, 1, 0, 3, 0, 0, 3, 2, 3, 0, 1, 3,\n",
       "        1, 1, 2, 0, 3, 2, 1, 1, 1, 1, 2, 1, 1, 2, 1, 0, 3, 1, 1, 0, 1, 0,\n",
       "        2, 0, 0, 2, 3, 0, 0, 3, 2, 2, 0, 2, 0, 3, 2, 0, 3, 2, 3, 0, 3, 3,\n",
       "        3, 2, 2, 1, 2, 2, 1, 2, 3, 0, 2, 0, 2, 2, 3, 2, 2, 1, 2, 3, 2, 1,\n",
       "        2, 1, 3, 3, 1, 3, 3, 3, 0, 2, 1, 0, 0, 3, 1, 2, 3, 3, 3, 2, 2, 0,\n",
       "        2, 3, 0, 1, 1, 3, 3, 0, 2, 1, 2, 1, 2, 2, 3, 1, 0, 1, 0, 1, 1, 0,\n",
       "        1, 0]))"
      ]
     },
     "execution_count": 5,
     "metadata": {},
     "output_type": "execute_result"
    }
   ],
   "source": [
    "data = make_blobs(n_samples=200, n_features=2, centers=4)\n",
    "data"
   ]
  },
  {
   "cell_type": "code",
   "execution_count": 6,
   "metadata": {},
   "outputs": [
    {
     "data": {
      "text/plain": [
       "array([1, 3, 2, 0, 3, 1, 0, 0, 1, 2, 2, 1, 0, 2, 1, 2, 0, 1, 1, 0, 3, 3,\n",
       "       0, 0, 0, 3, 0, 3, 0, 0, 0, 2, 3, 3, 2, 1, 3, 2, 3, 3, 3, 0, 1, 2,\n",
       "       2, 3, 2, 1, 2, 1, 0, 0, 1, 1, 2, 0, 3, 0, 2, 1, 0, 3, 3, 3, 0, 1,\n",
       "       3, 2, 3, 1, 1, 0, 1, 2, 0, 1, 3, 1, 0, 3, 0, 0, 3, 2, 3, 0, 1, 3,\n",
       "       1, 1, 2, 0, 3, 2, 1, 1, 1, 1, 2, 1, 1, 2, 1, 0, 3, 1, 1, 0, 1, 0,\n",
       "       2, 0, 0, 2, 3, 0, 0, 3, 2, 2, 0, 2, 0, 3, 2, 0, 3, 2, 3, 0, 3, 3,\n",
       "       3, 2, 2, 1, 2, 2, 1, 2, 3, 0, 2, 0, 2, 2, 3, 2, 2, 1, 2, 3, 2, 1,\n",
       "       2, 1, 3, 3, 1, 3, 3, 3, 0, 2, 1, 0, 0, 3, 1, 2, 3, 3, 3, 2, 2, 0,\n",
       "       2, 3, 0, 1, 1, 3, 3, 0, 2, 1, 2, 1, 2, 2, 3, 1, 0, 1, 0, 1, 1, 0,\n",
       "       1, 0])"
      ]
     },
     "execution_count": 6,
     "metadata": {},
     "output_type": "execute_result"
    }
   ],
   "source": [
    "data[1]"
   ]
  },
  {
   "cell_type": "code",
   "execution_count": 7,
   "metadata": {},
   "outputs": [
    {
     "data": {
      "text/plain": [
       "<matplotlib.collections.PathCollection at 0xd6dda70>"
      ]
     },
     "execution_count": 7,
     "metadata": {},
     "output_type": "execute_result"
    },
    {
     "data": {
      "image/png": "[encoded data removed]",
      "text/plain": [
       "<Figure size 432x288 with 1 Axes>"
      ]
     },
     "metadata": {
      "needs_background": "light"
     },
     "output_type": "display_data"
    }
   ],
   "source": [
    "plt.scatter(data[0][:,0], data[0][:,1])"
   ]
  },
  {
   "cell_type": "code",
   "execution_count": 9,
   "metadata": {},
   "outputs": [
    {
     "data": {
      "text/plain": [
       "KMeans(algorithm='auto', copy_x=True, init='k-means++', max_iter=300,\n",
       "    n_clusters=4, n_init=10, n_jobs=None, precompute_distances='auto',\n",
       "    random_state=None, tol=0.0001, verbose=0)"
      ]
     },
     "execution_count": 9,
     "metadata": {},
     "output_type": "execute_result"
    }
   ],
   "source": [
    "model = KMeans(n_clusters=4)\n",
    "model.fit(data[0])"
   ]
  },
  {
   "cell_type": "code",
   "execution_count": 10,
   "metadata": {},
   "outputs": [
    {
     "data": {
      "text/plain": [
       "array([[-0.67001802,  5.30828237],\n",
       "       [ 1.46053051, -7.04361383],\n",
       "       [ 9.95180783, -8.32254166],\n",
       "       [-2.3159996 ,  3.9139374 ]])"
      ]
     },
     "execution_count": 10,
     "metadata": {},
     "output_type": "execute_result"
    }
   ],
   "source": [
    "model.cluster_centers_"
   ]
  },
  {
   "cell_type": "code",
   "execution_count": 11,
   "metadata": {},
   "outputs": [
    {
     "data": {
      "text/plain": [
       "array([2, 0, 1, 3, 3, 2, 0, 0, 2, 1, 1, 2, 0, 1, 2, 1, 0, 2, 2, 3, 3, 3,\n",
       "       0, 0, 0, 3, 0, 3, 0, 0, 0, 1, 3, 3, 1, 2, 3, 1, 3, 0, 3, 0, 2, 1,\n",
       "       1, 3, 1, 2, 1, 2, 0, 3, 2, 2, 1, 3, 3, 0, 1, 2, 3, 3, 3, 3, 0, 2,\n",
       "       3, 1, 3, 2, 2, 0, 2, 1, 0, 2, 3, 2, 0, 0, 0, 0, 0, 1, 0, 0, 2, 3,\n",
       "       2, 2, 1, 0, 0, 1, 2, 2, 2, 2, 1, 2, 2, 1, 2, 0, 3, 2, 2, 0, 2, 0,\n",
       "       1, 0, 3, 1, 0, 0, 0, 0, 1, 1, 0, 1, 0, 0, 1, 0, 3, 1, 3, 0, 3, 0,\n",
       "       0, 1, 1, 2, 1, 1, 2, 1, 0, 0, 1, 0, 1, 1, 0, 1, 1, 2, 1, 3, 1, 2,\n",
       "       1, 2, 3, 0, 2, 0, 3, 0, 3, 1, 2, 0, 0, 0, 2, 1, 3, 3, 3, 1, 1, 0,\n",
       "       1, 3, 3, 2, 2, 3, 3, 0, 1, 2, 1, 2, 1, 1, 3, 2, 0, 2, 3, 2, 2, 0,\n",
       "       2, 0])"
      ]
     },
     "execution_count": 11,
     "metadata": {},
     "output_type": "execute_result"
    }
   ],
   "source": [
    "model.labels_"
   ]
  },
  {
   "cell_type": "code",
   "execution_count": 12,
   "metadata": {},
   "outputs": [
    {
     "data": {
      "text/plain": [
       "array([1, 3, 2, 0, 3, 1, 0, 0, 1, 2, 2, 1, 0, 2, 1, 2, 0, 1, 1, 0, 3, 3,\n",
       "       0, 0, 0, 3, 0, 3, 0, 0, 0, 2, 3, 3, 2, 1, 3, 2, 3, 3, 3, 0, 1, 2,\n",
       "       2, 3, 2, 1, 2, 1, 0, 0, 1, 1, 2, 0, 3, 0, 2, 1, 0, 3, 3, 3, 0, 1,\n",
       "       3, 2, 3, 1, 1, 0, 1, 2, 0, 1, 3, 1, 0, 3, 0, 0, 3, 2, 3, 0, 1, 3,\n",
       "       1, 1, 2, 0, 3, 2, 1, 1, 1, 1, 2, 1, 1, 2, 1, 0, 3, 1, 1, 0, 1, 0,\n",
       "       2, 0, 0, 2, 3, 0, 0, 3, 2, 2, 0, 2, 0, 3, 2, 0, 3, 2, 3, 0, 3, 3,\n",
       "       3, 2, 2, 1, 2, 2, 1, 2, 3, 0, 2, 0, 2, 2, 3, 2, 2, 1, 2, 3, 2, 1,\n",
       "       2, 1, 3, 3, 1, 3, 3, 3, 0, 2, 1, 0, 0, 3, 1, 2, 3, 3, 3, 2, 2, 0,\n",
       "       2, 3, 0, 1, 1, 3, 3, 0, 2, 1, 2, 1, 2, 2, 3, 1, 0, 1, 0, 1, 1, 0,\n",
       "       1, 0])"
      ]
     },
     "execution_count": 12,
     "metadata": {},
     "output_type": "execute_result"
    }
   ],
   "source": [
    "data[1]"
   ]
  },
  {
   "cell_type": "code",
   "execution_count": 16,
   "metadata": {},
   "outputs": [
    {
     "data": {
      "text/plain": [
       "Text(0.5,1,'Real Data')"
      ]
     },
     "execution_count": 16,
     "metadata": {},
     "output_type": "execute_result"
    },
    {
     "data": {
      "image/png": "[encoded data removed]",
      "text/plain": [
       "<Figure size 864x288 with 2 Axes>"
      ]
     },
     "metadata": {
      "needs_background": "light"
     },
     "output_type": "display_data"
    }
   ],
   "source": [
    "fig, (ax1, ax2) = plt.subplots(1, 2, figsize=(12,4))\n",
    "\n",
    "ax1.scatter(data[0][:,0], data[0][:,1], c=model.labels_)\n",
    "ax1.set_title(\"K-Means Predictions\")\n",
    "\n",
    "ax2.scatter(data[0][:,0], data[0][:,1], c=data[1])\n",
    "ax2.set_title(\"Real Data\")"
   ]
  }
 ],
 "metadata": {
  "kernelspec": {
   "display_name": "Python 2",
   "language": "python",
   "name": "python2"
  },
  "language_info": {
   "codemirror_mode": {
    "name": "ipython",
    "version": 2
   },
   "file_extension": ".py",
   "mimetype": "text/x-python",
   "name": "python",
   "nbconvert_exporter": "python",
   "pygments_lexer": "ipython2",
   "version": "2.7.15"
  }
 },
 "nbformat": 4,
 "nbformat_minor": 2
}
